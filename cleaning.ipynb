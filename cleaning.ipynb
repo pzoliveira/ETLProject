{
 "cells": [
  {
   "cell_type": "code",
   "execution_count": 2,
   "id": "547b0966",
   "metadata": {},
   "outputs": [],
   "source": [
    "import pandas as pd"
   ]
  },
  {
   "cell_type": "code",
   "execution_count": 3,
   "id": "3bde265d",
   "metadata": {},
   "outputs": [
    {
     "data": {
      "text/html": [
       "<div>\n",
       "<style scoped>\n",
       "    .dataframe tbody tr th:only-of-type {\n",
       "        vertical-align: middle;\n",
       "    }\n",
       "\n",
       "    .dataframe tbody tr th {\n",
       "        vertical-align: top;\n",
       "    }\n",
       "\n",
       "    .dataframe thead th {\n",
       "        text-align: right;\n",
       "    }\n",
       "</style>\n",
       "<table border=\"1\" class=\"dataframe\">\n",
       "  <thead>\n",
       "    <tr style=\"text-align: right;\">\n",
       "      <th></th>\n",
       "      <th>codigo_ocorrencia</th>\n",
       "      <th>codigo_ocorrencia2</th>\n",
       "      <th>ocorrencia_classificacao</th>\n",
       "      <th>ocorrencia_cidade</th>\n",
       "      <th>ocorrencia_uf</th>\n",
       "      <th>ocorrencia_aerodromo</th>\n",
       "      <th>ocorrencia_dia</th>\n",
       "      <th>ocorrencia_hora</th>\n",
       "      <th>total_recomendacoes</th>\n",
       "    </tr>\n",
       "  </thead>\n",
       "  <tbody>\n",
       "    <tr>\n",
       "      <th>0</th>\n",
       "      <td>52242</td>\n",
       "      <td>52242</td>\n",
       "      <td>INCIDENTE</td>\n",
       "      <td>PORTO ALEGRE</td>\n",
       "      <td>RS</td>\n",
       "      <td>SBPA</td>\n",
       "      <td>2012-01-05</td>\n",
       "      <td>20:27:00</td>\n",
       "      <td>0</td>\n",
       "    </tr>\n",
       "    <tr>\n",
       "      <th>1</th>\n",
       "      <td>45331</td>\n",
       "      <td>45331</td>\n",
       "      <td>ACIDENTE</td>\n",
       "      <td>GUARULHOS</td>\n",
       "      <td>SP</td>\n",
       "      <td>SBGR</td>\n",
       "      <td>2012-01-06</td>\n",
       "      <td>13:44:00</td>\n",
       "      <td>3</td>\n",
       "    </tr>\n",
       "    <tr>\n",
       "      <th>2</th>\n",
       "      <td>45333</td>\n",
       "      <td>45333</td>\n",
       "      <td>ACIDENTE</td>\n",
       "      <td>VIAMÃO</td>\n",
       "      <td>RS</td>\n",
       "      <td>****</td>\n",
       "      <td>2012-01-06</td>\n",
       "      <td>13:00:00</td>\n",
       "      <td>0</td>\n",
       "    </tr>\n",
       "    <tr>\n",
       "      <th>3</th>\n",
       "      <td>45401</td>\n",
       "      <td>45401</td>\n",
       "      <td>ACIDENTE</td>\n",
       "      <td>SÃO SEBASTIÃO</td>\n",
       "      <td>SP</td>\n",
       "      <td>****</td>\n",
       "      <td>2012-01-06</td>\n",
       "      <td>17:00:00</td>\n",
       "      <td>0</td>\n",
       "    </tr>\n",
       "    <tr>\n",
       "      <th>4</th>\n",
       "      <td>45407</td>\n",
       "      <td>45407</td>\n",
       "      <td>ACIDENTE</td>\n",
       "      <td>SÃO SEPÉ</td>\n",
       "      <td>RS</td>\n",
       "      <td>****</td>\n",
       "      <td>2012-01-06</td>\n",
       "      <td>16:30:00</td>\n",
       "      <td>0</td>\n",
       "    </tr>\n",
       "  </tbody>\n",
       "</table>\n",
       "</div>"
      ],
      "text/plain": [
       "   codigo_ocorrencia  codigo_ocorrencia2 ocorrencia_classificacao  \\\n",
       "0              52242               52242                INCIDENTE   \n",
       "1              45331               45331                 ACIDENTE   \n",
       "2              45333               45333                 ACIDENTE   \n",
       "3              45401               45401                 ACIDENTE   \n",
       "4              45407               45407                 ACIDENTE   \n",
       "\n",
       "  ocorrencia_cidade ocorrencia_uf ocorrencia_aerodromo ocorrencia_dia  \\\n",
       "0      PORTO ALEGRE            RS                 SBPA     2012-01-05   \n",
       "1         GUARULHOS            SP                 SBGR     2012-01-06   \n",
       "2            VIAMÃO            RS                 ****     2012-01-06   \n",
       "3     SÃO SEBASTIÃO            SP                 ****     2012-01-06   \n",
       "4          SÃO SEPÉ            RS                 ****     2012-01-06   \n",
       "\n",
       "  ocorrencia_hora  total_recomendacoes  \n",
       "0        20:27:00                    0  \n",
       "1        13:44:00                    3  \n",
       "2        13:00:00                    0  \n",
       "3        17:00:00                    0  \n",
       "4        16:30:00                    0  "
      ]
     },
     "execution_count": 3,
     "metadata": {},
     "output_type": "execute_result"
    }
   ],
   "source": [
    "df = pd.read_csv('ocorrencia.csv', sep=';', parse_dates=['ocorrencia_dia'], dayfirst=True)\n",
    "df.head()"
   ]
  },
  {
   "cell_type": "raw",
   "id": "72293afa",
   "metadata": {},
   "source": [
    "df.loc[0,'codigo_ocorrencia']"
   ]
  },
  {
   "cell_type": "raw",
   "id": "996a0939",
   "metadata": {},
   "source": [
    "df.loc[:,'codigo_ocorrencia']"
   ]
  },
  {
   "cell_type": "raw",
   "id": "d10ea5f5",
   "metadata": {},
   "source": [
    "df.loc[[1,3]]"
   ]
  },
  {
   "cell_type": "raw",
   "id": "5888b451",
   "metadata": {},
   "source": [
    "df.loc[2]"
   ]
  },
  {
   "cell_type": "code",
   "execution_count": null,
   "id": "151896bb",
   "metadata": {},
   "outputs": [],
   "source": []
  }
 ],
 "metadata": {
  "kernelspec": {
   "display_name": "Python 3 (ipykernel)",
   "language": "python",
   "name": "python3"
  },
  "language_info": {
   "codemirror_mode": {
    "name": "ipython",
    "version": 3
   },
   "file_extension": ".py",
   "mimetype": "text/x-python",
   "name": "python",
   "nbconvert_exporter": "python",
   "pygments_lexer": "ipython3",
   "version": "3.9.7"
  }
 },
 "nbformat": 4,
 "nbformat_minor": 5
}
