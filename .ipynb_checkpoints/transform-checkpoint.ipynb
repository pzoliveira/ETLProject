{
 "cells": [
  {
   "cell_type": "code",
   "execution_count": 1,
   "id": "27ed83f2",
   "metadata": {},
   "outputs": [],
   "source": [
    "import pandas as pd\n",
    "import pandera as pa"
   ]
  },
  {
   "cell_type": "code",
   "execution_count": null,
   "id": "5739faa2",
   "metadata": {},
   "outputs": [],
   "source": [
    "valores_pendentes = ['**', '***', '###!', '####']\n",
    "df = pd.read_csv('ocorrencia.csv', sep=';', parse_dates=['ocorrencia_dia', dayfirst=True, na_values=valores_pendentes])\n",
    "df.head(10)"
   ]
  },
  {
   "cell_type": "code",
   "execution_count": null,
   "id": "2f5c9109",
   "metadata": {},
   "outputs": [],
   "source": [
    "schema = pa.DataFrameSchema(\n",
    "    columns = {\n",
    "        \"codigo_item\": pa.Column(pa.Int, required=False),\n",
    "        \"codigo_ocorrencia\": pa.Column(pa.Int),\n",
    "        \"codigo_ocorrencia2\": pa.Column(pa.Int),\n",
    "        \"ocorrencia_classificacao\": pa.Column(pa.String),\n",
    "        \"ocorrencia_cidade\": pa.Column(pa.String),\n",
    "        \"ocorrencia_uf\": pa.Column(pa.String, pa.Check.str_length(2,2)),\n",
    "        \"ocorrencia_aerodromo\": pa.Column(pa.String),\n",
    "        \"ocorrencia_dia\": pa.Column(pa.DateTime),\n",
    "        \"ocorrencia_hora\": pa.Column(pa.String, pa.Check.str_matches(r'^([0-1]?[0-9]|[2][0-3]):([0-5][0-9]):([0-5][0-9])?$'), nullable=True),\n",
    "        \"total_recomendacoes\": pa.Column(pa.Int)\n",
    "    }\n",
    ")"
   ]
  },
  {
   "cell_type": "code",
   "execution_count": null,
   "id": "533c79e1",
   "metadata": {},
   "outputs": [],
   "source": [
    "schema.validate(df)"
   ]
  }
 ],
 "metadata": {
  "kernelspec": {
   "display_name": "Python 3 (ipykernel)",
   "language": "python",
   "name": "python3"
  },
  "language_info": {
   "codemirror_mode": {
    "name": "ipython",
    "version": 3
   },
   "file_extension": ".py",
   "mimetype": "text/x-python",
   "name": "python",
   "nbconvert_exporter": "python",
   "pygments_lexer": "ipython3",
   "version": "3.9.7"
  }
 },
 "nbformat": 4,
 "nbformat_minor": 5
}
